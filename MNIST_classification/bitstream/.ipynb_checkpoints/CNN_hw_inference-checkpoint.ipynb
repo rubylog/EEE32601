{
 "cells": [
  {
   "cell_type": "code",
   "execution_count": 1,
   "metadata": {
    "vscode": {
     "languageId": "plaintext"
    }
   },
   "outputs": [
    {
     "data": {
      "application/javascript": "\nrequire(['notebook/js/codecell'], function(codecell) {\n  codecell.CodeCell.options_default.highlight_modes[\n      'magic_text/x-csrc'] = {'reg':[/^%%microblaze/]};\n  Jupyter.notebook.events.one('kernel_ready.Kernel', function(){\n      Jupyter.notebook.get_cells().map(function(cell){\n          if (cell.cell_type == 'code'){ cell.auto_highlight(); } }) ;\n  });\n});\n"
     },
     "metadata": {},
     "output_type": "display_data"
    }
   ],
   "source": [
    "import numpy as np\n",
    "import time\n",
    "from tqdm import trange\n",
    "from pynq import Overlay, allocate"
   ]
  },
  {
   "cell_type": "code",
   "execution_count": 2,
   "metadata": {
    "vscode": {
     "languageId": "plaintext"
    }
   },
   "outputs": [],
   "source": [
    "batch_size = 10\n",
    "\n",
    "class bnn_hw(Overlay):\n",
    "    def __init__(self, bitfile, **kwargs):\n",
    "        super().__init__(bitfile, **kwargs)\n",
    "        \n",
    "        self.bnn_in1 = self.axi_dma_0\n",
    "        self.bnn_out = self.axi_dma_1\n",
    "        self.in1_buffer = allocate(shape=(batch_size * 28 * 28), dtype=\"uint8\")\n",
    "        self.out_buffer = allocate(shape=(batch_size * 10), dtype=\"int16\")\n",
    "        \n",
    "    def bnn(self, in1):\n",
    "        \n",
    "        \n",
    "        np.copyto(self.in1_buffer, in1)\n",
    "        \n",
    "        self.bnn_in1.sendchannel.transfer(self.in1_buffer)\n",
    "        self.bnn_out.recvchannel.transfer(self.out_buffer)\n",
    "        self.bnn_in1.sendchannel.wait()\n",
    "        self.bnn_out.recvchannel.wait()\n",
    "        \n",
    "        return self.out_buffer"
   ]
  },
  {
   "cell_type": "code",
   "execution_count": 3,
   "metadata": {
    "vscode": {
     "languageId": "plaintext"
    }
   },
   "outputs": [],
   "source": [
    "hw = bnn_hw(\"CNN_hw.bit\")"
   ]
  },
  {
   "cell_type": "code",
   "execution_count": 4,
   "metadata": {},
   "outputs": [],
   "source": [
    "hw?"
   ]
  },
  {
   "cell_type": "code",
   "execution_count": 5,
   "metadata": {
    "vscode": {
     "languageId": "plaintext"
    }
   },
   "outputs": [],
   "source": [
    "mnist = np.load(\"mnist-original.npy\", allow_pickle= True)\n",
    "\n",
    "X = mnist.item().get(\"data\").T / 255\n",
    "\n",
    "threshold = 0.2\n",
    "X = np.array((X > threshold).astype(np.uint8))\n",
    " # X는 (batch_size, h*w) 형태\n",
    "\n",
    "y = mnist.item().get(\"label\")[0]"
   ]
  },
  {
   "cell_type": "code",
   "execution_count": 6,
   "metadata": {
    "vscode": {
     "languageId": "plaintext"
    }
   },
   "outputs": [
    {
     "name": "stderr",
     "output_type": "stream",
     "text": [
      "100%|██████████| 7000/7000 [01:37<00:00, 71.53it/s]"
     ]
    },
    {
     "name": "stdout",
     "output_type": "stream",
     "text": [
      "Execution time (HW Inference) : 98.22 seconds\n"
     ]
    },
    {
     "name": "stderr",
     "output_type": "stream",
     "text": [
      "\n"
     ]
    }
   ],
   "source": [
    "prediction = []\n",
    "\n",
    "batch_size = 10\n",
    "outputs = np.zeros(batch_size * 10)\n",
    "\n",
    "start_time = time.time()\n",
    "\n",
    "for idx in trange(7000):\n",
    "    xs = X[batch_size * idx:batch_size * idx + batch_size]\n",
    "    ys = y[batch_size * idx:batch_size * idx + batch_size]\n",
    "#     outputs = hw.bnn(xs)\n",
    "    xs = xs.flatten()\n",
    "    np.copyto(outputs, hw.bnn(xs))\n",
    "#     for output, yk in zip(outputs.reshape(-1,10), ys):\n",
    "#         prediction.append(np.argmax(output) == (yk))\n",
    "\n",
    "end_time = time.time()\n",
    "\n",
    "# score = np.mean(prediction) * 100\n",
    "# print(score)\n",
    "print(f\"Execution time (HW Inference) : {end_time - start_time:.2f} seconds\")"
   ]
  },
  {
   "cell_type": "code",
   "execution_count": 7,
   "metadata": {},
   "outputs": [
    {
     "name": "stderr",
     "output_type": "stream",
     "text": [
      "100%|██████████| 7000/7000 [03:42<00:00, 31.41it/s]\n"
     ]
    },
    {
     "name": "stdout",
     "output_type": "stream",
     "text": [
      "Final Accuracy: 93.89%\n"
     ]
    }
   ],
   "source": [
    "prediction = []\n",
    "\n",
    "batch_size = 10\n",
    "outputs = np.zeros(batch_size * 10)\n",
    "\n",
    "start_time = time.time()\n",
    "for idx in trange(7000):\n",
    "    xs = X[batch_size * idx:batch_size * idx + batch_size]\n",
    "    ys = y[batch_size * idx:batch_size * idx + batch_size]\n",
    "    xs = xs.flatten()\n",
    "    outputs = hw.bnn(xs)\n",
    "    np.copyto(outputs, hw.bnn(xs))\n",
    "    for output, yk in zip(outputs.reshape(-1,10), ys):\n",
    "        prediction.append(np.argmax(output) == (yk))\n",
    "end_time = time.time()\n",
    "score = np.mean(prediction) * 100\n",
    "\n",
    "print(f\"Final Accuracy: {score:.2f}%\")"
   ]
  }
 ],
 "metadata": {
  "kernelspec": {
   "display_name": "Python 3",
   "language": "python",
   "name": "python3"
  },
  "language_info": {
   "codemirror_mode": {
    "name": "ipython",
    "version": 3
   },
   "file_extension": ".py",
   "mimetype": "text/x-python",
   "name": "python",
   "nbconvert_exporter": "python",
   "pygments_lexer": "ipython3",
   "version": "3.6.5"
  }
 },
 "nbformat": 4,
 "nbformat_minor": 4
}
